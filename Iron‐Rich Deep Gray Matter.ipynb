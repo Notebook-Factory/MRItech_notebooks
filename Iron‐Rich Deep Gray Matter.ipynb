{
 "cells": [
  {
   "cell_type": "markdown",
   "id": "directed-tyler",
   "metadata": {},
   "source": [
    "<a style=\"padding:0px;margin-top:5px;display:block;\" href=\"https://onlinelibrary.wiley.com/journal/15222594\"><img style =\"border:3px solid #003e80;\" src=\"https://onlinelibrary.wiley.com/pb-assets/journal-banners/15222594-1589988604920.jpg\"> </a>\n",
    "<b><h3 align=\"center\" style=\"display:block;padding:10px;margin-bottom:10px;font-family:Calibri;line-height:30px;font-size:30px;margin-top:0\">On the value of QSM from MPRAGE for segmenting and quantifying iron-rich deep gray matter</h3></b>\n",
    "<hr align=\"center\">\n",
    "\n",
    "<center><h4><u>Full Paper</u></h4>\n",
    "   </center>\n",
    "    <br>\n",
    "    <p style=\"font-size:18px\">Nashwan Naji<sup>1</sup>, Hongfu Sun<sup>2</sup>, Alan H. Wilman<sup>1</sup></p>\n",
    "    <br>\n",
    "    <p><i><span style=\"font-size:10px\"><sup>1 </sup>Department of Biomedical Engineering, University of Alberta, Edmonton, Alberta, Canada <br>\n",
    "<sup>2 </sup>School of Information Technology and Electrical Engineering, University of Queensland, Brisbane, Queensland, Australia </span></i></p>"
   ]
  },
  {
   "cell_type": "code",
   "execution_count": 1,
   "id": "organized-warehouse",
   "metadata": {},
   "outputs": [
    {
     "data": {
      "text/html": [
       "<script>\n",
       "code_show=true; \n",
       "function code_toggle(p=0) {\n",
       " if (p!=0){\n",
       "     code_show = p;\n",
       " }\n",
       "     if (code_show){\n",
       "         $('div.input').hide();\n",
       "    } else {\n",
       "         $('div.input').show();\n",
       " }\n",
       " code_show = !code_show\n",
       " \n",
       "} \n",
       "$( document ).ready(code_toggle);\n",
       "</script>\n",
       "<form align=\"center\" action=\"javascript:code_toggle()\">\n",
       "<input style=\"border:2px solid #003e80;border-radius:10%;padding:10px 25px;color:#84b1df\"\n",
       "type=\"submit\" value=\"Копче за код.\"></form>"
      ],
      "text/plain": [
       "<IPython.core.display.HTML object>"
      ]
     },
     "execution_count": 1,
     "metadata": {},
     "output_type": "execute_result"
    }
   ],
   "source": [
    "!jt -t oceans16\n",
    "from IPython.display import HTML\n",
    "HTML('''<script>\n",
    "code_show=true; \n",
    "function code_toggle(p=0) {\n",
    " if (p!=0){\n",
    "     code_show = p;\n",
    " }\n",
    "     if (code_show){\n",
    "         $('div.input').hide();\n",
    "    } else {\n",
    "         $('div.input').show();\n",
    " }\n",
    " code_show = !code_show\n",
    " \n",
    "} \n",
    "$( document ).ready(code_toggle);\n",
    "</script>\n",
    "<form align=\"center\" action=\"javascript:code_toggle()\">\n",
    "<input style=\"border:2px solid #003e80;border-radius:10%;padding:10px 25px;color:#84b1df\"\n",
    "type=\"submit\" value=\"Копче за код.\"></form>''')"
   ]
  },
  {
   "cell_type": "markdown",
   "id": "medieval-commons",
   "metadata": {},
   "source": [
    "<div class=\"container\" style=\"width:47%;float:left;padding:10px;margin:5px\">\n",
    "    <b>Цел:</b>\n",
    "    <div class=\"box\" style=\"border-left:4px solid #003e80;width:95%;height:95%;padding:15px\">\n",
    "      Квантитативното мапирање на осетливост(QSM) досега е применувано и за еваулација на железо и за сегментација на длабока сива материја(DGM), но QSM секвенците не се типично користат во стандардните волуметриски мозочни студии, кои користат брза аквизиција подготвена за магнетизирање со Т1, со градиентно ехо(MPRAGE) со кратко ТЕ. Овде, директно произведениот QSM од стандардна фаза на MPRAGE (QSM<sub>MPRAGE</sub>) се еваулира за сегментација и квантификација на DGM региони богати со железо.\n",
    "    </div>\n",
    "</div> \n",
    "\n",
    "<div class=\"container\" style=\"width:47%;float:left;padding:10px;margin:5px\">\n",
    "    <b>Методи:</b>\n",
    "    <div class=\"box\" style=\"border-left:4px solid #003e80;width:95%;height:95%;padding:15px\">\n",
    "      Овде беа користени симулации за да се истражи квалитетот и можните лимитации. Додатно, QSM-от од стандардно мулти-ехо градиентно ехо(QSM<sub>GRE</sub>) беше споредувано со QSM<sub>MPRAGE</sub>-от кај 40 здрави возрасни луѓе на 3Т. DGM структурите со слаби контрасти на MPRAGE магнитуди беа еваулирани за подобрување на сегментација со QSM<sub>MPRAGE</sub>, со фокус на глобусот палидус(GP) богат со железо. Дополнително, кватификацијата на осетливост беше оценета на шест DGM јадра и споредена со стандардниот QSM<sub>GRE</sub>.\n",
    "    </div>\n",
    "</div>\n",
    "\n",
    "<div class=\"container\" style=\"width:47%;float:left;padding:10px;margin:5px\">\n",
    "    <b>Резултати:</b>\n",
    "    <div class=\"box\" style=\"border-left:4px solid #003e80;width:95%;height:95%;padding:15px\">\n",
    "      Лимитирани од ТЕ и односот на сигнал-шум, само богатите региони со железо како GP и острото јадро продуцираат доволен контраст на QSM<sub>MPRAGE</sub>, ограничувајќи ги апликациите во тие региони. QSM<sub>MPRAGE</sub>-от ја подобри GP сегментацијата со зголемување на просечните Dice вредности за 9.0% и намалување на просечните волуметриски разлики за 9.7%. Симулациите сугерираат дека за да се достигне подобрување на сегментацијата треба фазниот контраст-шум однос(CNR) да биде над 3.0. За квантификацијата потребен е поголем CNR и типичниот QSM<sub>MPRAGE</sub> обезбеди споредливи проценки со QSM<sub>GRE</sub> во големи DGM јадра богати со железо. \n",
    "    </div>\n",
    "</div> \n",
    "\n",
    "<div class=\"container\" style=\"width:47%;float:left;padding:10px;margin:5px\">\n",
    "    <b>Заклучок:</b>\n",
    "    <div class=\"box\" style=\"border-left:4px solid #003e80;width:95%;height:95%;padding:15px\">\n",
    "        И покрај краткиот ТЕ на стандардниот MPRAGE, QSM<sub>MPRAGE</sub>-от може да ја подобри GP сегментацијата наспроти користење на само MPRAGE магнитуда и приближно мерење на регионите богати со железо во DGM. Така, реконструирањето на QSM<sub>MPRAGE</sub>-от може да биде корисен додаток волуметриските студии кои ретко вклучуваат стандарден QSM<sub>GRE</sub>. \n",
    "    </div>\n",
    "</div> "
   ]
  },
  {
   "cell_type": "code",
   "execution_count": null,
   "id": "minus-receiver",
   "metadata": {},
   "outputs": [],
   "source": []
  }
 ],
 "metadata": {
  "kernelspec": {
   "display_name": "Python 3",
   "language": "python",
   "name": "python3"
  },
  "language_info": {
   "codemirror_mode": {
    "name": "ipython",
    "version": 3
   },
   "file_extension": ".py",
   "mimetype": "text/x-python",
   "name": "python",
   "nbconvert_exporter": "python",
   "pygments_lexer": "ipython3",
   "version": "3.7.9"
  }
 },
 "nbformat": 4,
 "nbformat_minor": 5
}
