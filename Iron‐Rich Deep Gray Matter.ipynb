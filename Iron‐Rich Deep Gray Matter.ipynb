{
 "cells": [
  {
   "cell_type": "markdown",
   "id": "amended-qualification",
   "metadata": {},
   "source": [
    "<a style=\"padding:10px;margin-top:5px;display:block\" href=\"https://onlinelibrary.wiley.com/journal/15222594\"><img src=\"https://onlinelibrary.wiley.com/pb-assets/journal-banners/15222594-1589988604920.jpg\"> </a>\n",
    "<b><h3 align=\"center\" style=\"display:block;padding:10px;margin-bottom:10px;font-family:Cambria;line-height:30px;font-size:30px;margin-top:0\">On the value of QSM from MPRAGE for segmenting and quantifying iron-rich deep gray matter</h3></b>\n",
    "<hr align=\"center\">"
   ]
  },
  {
   "cell_type": "code",
   "execution_count": 4,
   "id": "danish-disaster",
   "metadata": {},
   "outputs": [
    {
     "data": {
      "text/html": [
       "<script>\n",
       "code_show=true; \n",
       "function code_toggle(p=0) {\n",
       " if (p!=0){\n",
       "     code_show = p;\n",
       " }\n",
       "     if (code_show){\n",
       "         $('div.input').hide();\n",
       "    } else {\n",
       "         $('div.input').show();\n",
       " }\n",
       " code_show = !code_show\n",
       " \n",
       "} \n",
       "$( document ).ready(code_toggle);\n",
       "</script>\n",
       "<form align=\"center\" action=\"javascript:code_toggle()\">\n",
       "<input style=\"border:1px solid #003e80;border-radius:15%;padding:10px 25px;\"\n",
       "type=\"submit\" value=\"Копче за код.\"></form>"
      ],
      "text/plain": [
       "<IPython.core.display.HTML object>"
      ]
     },
     "execution_count": 4,
     "metadata": {},
     "output_type": "execute_result"
    }
   ],
   "source": [
    "!jt -t oceans16\n",
    "from IPython.display import HTML\n",
    "HTML('''<script>\n",
    "code_show=true; \n",
    "function code_toggle(p=0) {\n",
    " if (p!=0){\n",
    "     code_show = p;\n",
    " }\n",
    "     if (code_show){\n",
    "         $('div.input').hide();\n",
    "    } else {\n",
    "         $('div.input').show();\n",
    " }\n",
    " code_show = !code_show\n",
    " \n",
    "} \n",
    "$( document ).ready(code_toggle);\n",
    "</script>\n",
    "<form align=\"center\" action=\"javascript:code_toggle()\">\n",
    "<input style=\"border:1px solid #003e80;border-radius:15%;padding:10px 25px;\"\n",
    "type=\"submit\" value=\"Копче за код.\"></form>''')"
   ]
  },
  {
   "cell_type": "code",
   "execution_count": null,
   "id": "juvenile-helicopter",
   "metadata": {},
   "outputs": [],
   "source": []
  }
 ],
 "metadata": {
  "kernelspec": {
   "display_name": "Python 3",
   "language": "python",
   "name": "python3"
  },
  "language_info": {
   "codemirror_mode": {
    "name": "ipython",
    "version": 3
   },
   "file_extension": ".py",
   "mimetype": "text/x-python",
   "name": "python",
   "nbconvert_exporter": "python",
   "pygments_lexer": "ipython3",
   "version": "3.7.9"
  }
 },
 "nbformat": 4,
 "nbformat_minor": 5
}
