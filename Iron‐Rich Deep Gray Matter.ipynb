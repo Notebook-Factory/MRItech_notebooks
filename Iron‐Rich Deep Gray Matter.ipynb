{
 "cells": [
  {
   "cell_type": "markdown",
   "id": "excessive-elevation",
   "metadata": {},
   "source": [
    "<a style=\"padding:0px;margin-top:5px;display:block;\" href=\"https://onlinelibrary.wiley.com/journal/15222594\"><img style =\"border:3px solid #003e80;\" src=\"https://onlinelibrary.wiley.com/pb-assets/journal-banners/15222594-1589988604920.jpg\"> </a>\n",
    "<b><h3 align=\"center\" style=\"display:block;padding:10px;margin-bottom:10px;font-family:Calibri;line-height:30px;font-size:30px;margin-top:0\">On the value of QSM from MPRAGE for segmenting and quantifying iron-rich deep gray matter</h3></b>\n",
    "<hr align=\"center\">\n",
    "\n",
    "<center><h4><u>Full Paper</u></h4>\n",
    "   </center>\n",
    "    <br>\n",
    "    <p style=\"font-size:18px\">Nashwan Naji<sup>1</sup>, Hongfu Sun<sup>2</sup>, Alan H. Wilman<sup>1</sup></p>\n",
    "    <br>\n",
    "    <p><i><span style=\"font-size:10px\"><sup>1 </sup>Department of Biomedical Engineering, University of Alberta, Edmonton, Alberta, Canada <br>\n",
    "<sup>2 </sup>School of Information Technology and Electrical Engineering, University of Queensland, Brisbane, Queensland, Australia </span></i></p>"
   ]
  },
  {
   "cell_type": "code",
   "execution_count": 8,
   "id": "covered-asthma",
   "metadata": {},
   "outputs": [
    {
     "data": {
      "text/html": [
       "<script>\n",
       "code_show=true; \n",
       "function code_toggle(p=0) {\n",
       " if (p!=0){\n",
       "     code_show = p;\n",
       " }\n",
       "     if (code_show){\n",
       "         $('div.input').hide();\n",
       "    } else {\n",
       "         $('div.input').show();\n",
       " }\n",
       " code_show = !code_show\n",
       " \n",
       "} \n",
       "$( document ).ready(code_toggle);\n",
       "</script>\n",
       "<form align=\"center\" action=\"javascript:code_toggle()\">\n",
       "<input style=\"border:2px solid #003e80;border-radius:10%;padding:10px 25px;color:#84b1df\"\n",
       "type=\"submit\" value=\"Копче за код.\"></form>"
      ],
      "text/plain": [
       "<IPython.core.display.HTML object>"
      ]
     },
     "execution_count": 8,
     "metadata": {},
     "output_type": "execute_result"
    }
   ],
   "source": [
    "!jt -t oceans16\n",
    "from IPython.display import HTML\n",
    "HTML('''<script>\n",
    "code_show=true; \n",
    "function code_toggle(p=0) {\n",
    " if (p!=0){\n",
    "     code_show = p;\n",
    " }\n",
    "     if (code_show){\n",
    "         $('div.input').hide();\n",
    "    } else {\n",
    "         $('div.input').show();\n",
    " }\n",
    " code_show = !code_show\n",
    " \n",
    "} \n",
    "$( document ).ready(code_toggle);\n",
    "</script>\n",
    "<form align=\"center\" action=\"javascript:code_toggle()\">\n",
    "<input style=\"border:2px solid #003e80;border-radius:10%;padding:10px 25px;color:#84b1df\"\n",
    "type=\"submit\" value=\"Копче за код.\"></form>''')"
   ]
  },
  {
   "cell_type": "code",
   "execution_count": null,
   "id": "similar-copying",
   "metadata": {},
   "outputs": [],
   "source": []
  }
 ],
 "metadata": {
  "kernelspec": {
   "display_name": "Python 3",
   "language": "python",
   "name": "python3"
  },
  "language_info": {
   "codemirror_mode": {
    "name": "ipython",
    "version": 3
   },
   "file_extension": ".py",
   "mimetype": "text/x-python",
   "name": "python",
   "nbconvert_exporter": "python",
   "pygments_lexer": "ipython3",
   "version": "3.7.9"
  }
 },
 "nbformat": 4,
 "nbformat_minor": 5
}
