{
 "cells": [
  {
   "cell_type": "markdown",
   "id": "forced-anime",
   "metadata": {},
   "source": [
    "<b><h3 align=\"center\">On the value of QSM from MPRAGE for segmenting and quantifying iron-rich deep gray matter</h3></b>"
   ]
  },
  {
   "cell_type": "code",
   "execution_count": 2,
   "id": "active-confirmation",
   "metadata": {},
   "outputs": [],
   "source": [
    "!jt -t oceans16"
   ]
  }
 ],
 "metadata": {
  "kernelspec": {
   "display_name": "Python 3",
   "language": "python",
   "name": "python3"
  },
  "language_info": {
   "codemirror_mode": {
    "name": "ipython",
    "version": 3
   },
   "file_extension": ".py",
   "mimetype": "text/x-python",
   "name": "python",
   "nbconvert_exporter": "python",
   "pygments_lexer": "ipython3",
   "version": "3.7.9"
  }
 },
 "nbformat": 4,
 "nbformat_minor": 5
}
