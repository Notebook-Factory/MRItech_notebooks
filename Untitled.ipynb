{
 "cells": [
  {
   "cell_type": "markdown",
   "id": "deluxe-member",
   "metadata": {},
   "source": [
    "OKAY SO THIS IS THE JAVASCRIPT KERNEL."
   ]
  },
  {
   "cell_type": "code",
   "execution_count": 7,
   "id": "acceptable-somalia",
   "metadata": {},
   "outputs": [
    {
     "data": {
      "application/javascript": [
       "\n"
      ],
      "text/plain": [
       "<IPython.core.display.Javascript object>"
      ]
     },
     "metadata": {},
     "output_type": "display_data"
    }
   ],
   "source": [
    "%%javascript\n",
    "\n"
   ]
  },
  {
   "cell_type": "code",
   "execution_count": null,
   "id": "twelve-tiger",
   "metadata": {},
   "outputs": [],
   "source": []
  }
 ],
 "metadata": {
  "kernelspec": {
   "display_name": "Python 3",
   "language": "python",
   "name": "python3"
  },
  "language_info": {
   "codemirror_mode": {
    "name": "ipython",
    "version": 3
   },
   "file_extension": ".py",
   "mimetype": "text/x-python",
   "name": "python",
   "nbconvert_exporter": "python",
   "pygments_lexer": "ipython3",
   "version": "3.7.9"
  }
 },
 "nbformat": 4,
 "nbformat_minor": 5
}
