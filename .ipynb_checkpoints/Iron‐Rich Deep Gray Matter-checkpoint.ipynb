{
 "cells": [
  {
   "cell_type": "markdown",
   "id": "limited-status",
   "metadata": {},
   "source": [
    "<h3 align=\"center\">On the value of QSM from MPRAGE for segmenting and quantifying iron-rich deep gray matter</h3>"
   ]
  },
  {
   "cell_type": "code",
   "execution_count": 2,
   "id": "victorian-boost",
   "metadata": {},
   "outputs": [],
   "source": [
    "!jt -t oceans16"
   ]
  }
 ],
 "metadata": {
  "kernelspec": {
   "display_name": "Python 3",
   "language": "python",
   "name": "python3"
  },
  "language_info": {
   "codemirror_mode": {
    "name": "ipython",
    "version": 3
   },
   "file_extension": ".py",
   "mimetype": "text/x-python",
   "name": "python",
   "nbconvert_exporter": "python",
   "pygments_lexer": "ipython3",
   "version": "3.7.9"
  }
 },
 "nbformat": 4,
 "nbformat_minor": 5
}
